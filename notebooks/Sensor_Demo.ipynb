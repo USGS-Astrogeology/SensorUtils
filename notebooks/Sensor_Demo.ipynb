{
 "cells": [
  {
   "cell_type": "code",
   "execution_count": 1,
   "metadata": {},
   "outputs": [
    {
     "data": {
      "text/plain": [
       "['CartesianPoint',\n",
       " 'CartesianPoint_swigregister',\n",
       " 'ImagePoint',\n",
       " 'ImagePoint_swigregister',\n",
       " 'Sensor',\n",
       " 'SensorModel',\n",
       " 'SensorModelFactory',\n",
       " 'SensorModelFactory_create',\n",
       " 'SensorModelFactory_swigregister',\n",
       " 'SensorModel_swigregister',\n",
       " 'Sensor_swigregister',\n",
       " 'ShapeModel',\n",
       " 'ShapeModel_swigregister',\n",
       " '__builtins__',\n",
       " '__cached__',\n",
       " '__doc__',\n",
       " '__file__',\n",
       " '__loader__',\n",
       " '__name__',\n",
       " '__package__',\n",
       " '__path__',\n",
       " '__spec__',\n",
       " '_sensors',\n",
       " 'sensors']"
      ]
     },
     "execution_count": 1,
     "metadata": {},
     "output_type": "execute_result"
    }
   ],
   "source": [
    "import sensors\n",
    "import json\n",
    "import ctypes\n",
    "import csmapi\n",
    "\n",
    "import pyproj \n",
    "import csmapi\n",
    "\n",
    "from shapely.geometry import Polygon \n",
    "import numpy as np\n",
    "\n",
    "dir(sensors)"
   ]
  },
  {
   "cell_type": "code",
   "execution_count": 2,
   "metadata": {},
   "outputs": [
    {
     "data": {
      "text/plain": [
       "0"
      ]
     },
     "execution_count": 2,
     "metadata": {},
     "output_type": "execute_result"
    }
   ],
   "source": [
    "import os\n",
    "lib = ctypes.CDLL(os.path.join(os.environ['CONDA_PREFIX'], 'lib/libusgscsm.dylib'))\n",
    "csmapi.Plugin.getList().size()"
   ]
  },
  {
   "cell_type": "code",
   "execution_count": 3,
   "metadata": {},
   "outputs": [],
   "source": [
    "isdfile = \"/Users/krodriguez-pr/repos/SensorUtils/tests/data/simpleFramerISD.json\"\n",
    "isd = json.load(open(isdfile))\n",
    "\n",
    "shape = {\n",
    "    \"semiminor\" : 10,\n",
    "    \"semimajor\": 10\n",
    "}\n",
    "\n",
    "sensor = sensors.Sensor(isdfile, '{\"semiminor\": 10, \"semimajor\": 10}')"
   ]
  },
  {
   "cell_type": "code",
   "execution_count": 4,
   "metadata": {},
   "outputs": [
    {
     "data": {
      "text/plain": [
       "(7.121065303152477, -4.964394673484238, -4.964394673484238)"
      ]
     },
     "execution_count": 4,
     "metadata": {},
     "output_type": "execute_result"
    }
   ],
   "source": [
    "# compute some things, but who knows if it's correct \n",
    "imgpt = sensors.ImagePoint(10.0,10.0,0.0)\n",
    "grndpoint = sensor.imageToGround(imgpt)\n",
    "grndpoint.x, grndpoint.y, grndpoint.z"
   ]
  },
  {
   "cell_type": "code",
   "execution_count": 6,
   "metadata": {},
   "outputs": [
    {
     "data": {
      "text/plain": [
       "1.488227551408877"
      ]
     },
     "execution_count": 6,
     "metadata": {},
     "output_type": "execute_result"
    }
   ],
   "source": [
    "p = sensor.phaseAngle(imgpt)\n",
    "p"
   ]
  },
  {
   "cell_type": "code",
   "execution_count": null,
   "metadata": {},
   "outputs": [],
   "source": [
    "def footprint(camera, isd):\n",
    "    def rect_to_lat(x, y, z, radius=3396190):\n",
    "        ecef = pyproj.Proj(proj='geocent', a=radius, b=radius)\n",
    "        lla = pyproj.Proj(proj='longlat', a=radius, b=radius)\n",
    "        return pyproj.transform(ecef, lla, x, y, z)\n",
    "\n",
    "    nlines = isd[\"image_lines\"] \n",
    "    nsamples = isd[\"image_samples\"]\n",
    "    \n",
    "    corner_pixels = [sensors.ImagePoint(0,0,1),\n",
    "                     sensors.ImagePoint(0, nsamples-1,1),\n",
    "                     sensors.ImagePoint(nlines-1, nsamples-1,1),\n",
    "                     sensors.ImagePoint(nlines-1, 0,1)]\n",
    "    \n",
    "    ground_list = []\n",
    "    for pixel in corner_pixels:\n",
    "        ground = camera.imageToGround(pixel)\n",
    "        lat, lon, alt = rect_to_lat(ground.x, ground.y, ground.z)\n",
    "        ground_list.append([lat, lon, alt])\n",
    "    ground_corners = np.asarray(ground_list)\n",
    "    footprint = Polygon(ground_corners[:,[0,1]])\n",
    "    return footprint\n",
    "    \n",
    "poly = footprint(sensor, isd)\n",
    "poly"
   ]
  },
  {
   "cell_type": "code",
   "execution_count": null,
   "metadata": {},
   "outputs": [],
   "source": []
  }
 ],
 "metadata": {
  "kernelspec": {
   "display_name": "Python 3",
   "language": "python",
   "name": "python3"
  },
  "language_info": {
   "codemirror_mode": {
    "name": "ipython",
    "version": 3
   },
   "file_extension": ".py",
   "mimetype": "text/x-python",
   "name": "python",
   "nbconvert_exporter": "python",
   "pygments_lexer": "ipython3",
   "version": "3.7.0"
  }
 },
 "nbformat": 4,
 "nbformat_minor": 2
}
